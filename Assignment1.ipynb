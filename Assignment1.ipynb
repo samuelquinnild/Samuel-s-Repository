{
  "nbformat": 4,
  "nbformat_minor": 0,
  "metadata": {
    "colab": {
      "provenance": [],
      "authorship_tag": "ABX9TyMwr23ijUJ9P0EVA+pDSmN4",
      "include_colab_link": true
    },
    "kernelspec": {
      "name": "python3",
      "display_name": "Python 3"
    },
    "language_info": {
      "name": "python"
    }
  },
  "cells": [
    {
      "cell_type": "markdown",
      "metadata": {
        "id": "view-in-github",
        "colab_type": "text"
      },
      "source": [
        "<a href=\"https://colab.research.google.com/github/samuelquinnild/Samuel-s-Repository/blob/main/Assignment1.ipynb\" target=\"_parent\"><img src=\"https://colab.research.google.com/assets/colab-badge.svg\" alt=\"Open In Colab\"/></a>"
      ]
    },
    {
      "cell_type": "markdown",
      "source": [
        "Parking Garage"
      ],
      "metadata": {
        "id": "vbTz1LHQrvPI"
      }
    },
    {
      "cell_type": "code",
      "execution_count": null,
      "metadata": {
        "id": "3b1VtHtQrm-0"
      },
      "outputs": [],
      "source": [
        "hours = int(input('Enter number of hours parked: '))\n",
        "fee = 2.5 * hours\n",
        "if fee <= 6:\n",
        "  print(6)\n",
        "elif fee >= 20:\n",
        "  print(20)\n",
        "else:\n",
        "  print(free)"
      ]
    },
    {
      "cell_type": "markdown",
      "source": [
        "Deposit Problem"
      ],
      "metadata": {
        "id": "Wfetrycgr0EF"
      }
    },
    {
      "cell_type": "code",
      "source": [
        "name = input('Enter your name: ')\n",
        "customer_type = input('Enter customer type (n: new, e: existing): ')\n",
        "deposit = float(input('Enter Deposit Amount '))\n",
        "\n",
        "if customer_type == 'n':\n",
        "  interest = 0.03\n",
        "else:\n",
        "  if deposit > 10000:\n",
        "    ir = 3.5\n",
        "  elif deposit <= 1000:\n",
        "    ir = 3.0\n",
        "  else:\n",
        "    ir = 3.25\n",
        "else:\n",
        "  ir = 3.0\n",
        "\n",
        "total = (1 + ir/100) * deposit\n",
        "print(f'Deposit at the end of the year: {round(total, 2)}')"
      ],
      "metadata": {
        "id": "95wCOFW7ruXY"
      },
      "execution_count": null,
      "outputs": []
    },
    {
      "cell_type": "markdown",
      "source": [
        "List Creator"
      ],
      "metadata": {
        "id": "-7KMIm8otIEB"
      }
    },
    {
      "cell_type": "code",
      "source": [
        "L = []\n",
        "\n",
        "number = int(input('Enter a value: '))\n",
        "\n",
        "while number!= 0:\n",
        "  L.append(number)\n",
        "  number = int(input('Enter a value: '))\n",
        "L"
      ],
      "metadata": {
        "id": "guPRSAw-tJFu"
      },
      "execution_count": null,
      "outputs": []
    },
    {
      "cell_type": "markdown",
      "source": [
        "Mortgage"
      ],
      "metadata": {
        "id": "ZOqi5IpQu8SN"
      }
    },
    {
      "cell_type": "code",
      "source": [
        "class Mortgage:\n",
        "  def __init__(self, initial, maturity, rate):\n",
        "    self.initial = initial\n",
        "    self.maturity = maturity\n",
        "    self.__interest = interest\n",
        "\n",
        "  def __str__(self):\n",
        "    return f'Mortgage info:\\n Initial loan amount: {self.amount} $\\n Maturity term: {self.maturity} years\\n Interest rate: {self.interest}%'\n",
        "\n",
        "  def get_interest(self):\n",
        "    return self.__interest\n",
        "\n",
        "  def set_interest(self, newInterest):\n",
        "    if newRate >= 0:\n",
        "      self.__interest = newInterest\n",
        "    else:\n",
        "      print('Interest must be non-negative!')\n",
        "\n",
        "  def payment(self):\n",
        "    B = self.initial\n",
        "    n = self.maturity * 12\n",
        "    r = self.__rate / 100\n",
        "    return B * (r * (1 + r) ** n) / ((1 + r) ** n - 1)"
      ],
      "metadata": {
        "id": "mdLUJ2LRu7xy"
      },
      "execution_count": 3,
      "outputs": []
    },
    {
      "cell_type": "code",
      "source": [
        "m = Mortgage(100000, 30, 6)"
      ],
      "metadata": {
        "id": "g9YqdL9ivhNw"
      },
      "execution_count": null,
      "outputs": []
    },
    {
      "cell_type": "code",
      "source": [
        "m.set_interest(-5)\n",
        "m.get_interest()"
      ],
      "metadata": {
        "id": "VG-MVawXv3qC"
      },
      "execution_count": null,
      "outputs": []
    },
    {
      "cell_type": "code",
      "source": [
        "print(m)"
      ],
      "metadata": {
        "id": "8X10MhfWv8ia"
      },
      "execution_count": null,
      "outputs": []
    },
    {
      "cell_type": "markdown",
      "source": [
        "Point Assignment"
      ],
      "metadata": {
        "id": "zmF6eOOnxoHK"
      }
    },
    {
      "cell_type": "code",
      "source": [
        "class Point:\n",
        "  def __init__(self, x, y):\n",
        "    self.x = x\n",
        "    self.y = y\n",
        "\n",
        "  def distance(self, other):\n",
        "    x_diff = (self.x - other.x) ** 2\n",
        "    y_diff = (self.y - other.y) ** 2\n",
        "    return (x_diff + y_diff) ** 0.5\n",
        "\n",
        "\n",
        "class Point3D(Point):\n",
        "  def __init__(self, x, y, z):\n",
        "    super().__init__(x, y)\n",
        "    self.z = z\n",
        "  def distance(self):\n",
        "    x_diff = (self.x - other.x) ** 2\n",
        "    y_diff = (self.y - other.y) ** 2\n",
        "    z_diff = (self.z - other.z) ** 2\n",
        "    return (x.diff + y_diff + z_diff) ** 0.5\n",
        "\n",
        "p1 = Point(3, 4)\n",
        "p2 = Point(6, 8)\n",
        "print(p1.distance(p2))\n",
        "p3d_1 = Point3D(3, 4, 5)\n",
        "p3d_2 = Point3D(6, 8, 10)\n",
        "print(p3d_1.distance(p3d_2))"
      ],
      "metadata": {
        "id": "vaQ6rIRzwLRo"
      },
      "execution_count": null,
      "outputs": []
    },
    {
      "cell_type": "markdown",
      "source": [
        "Movie Theater"
      ],
      "metadata": {
        "id": "8fHtMcTPxpo5"
      }
    },
    {
      "cell_type": "code",
      "source": [
        "init_attendees = 20\n",
        "fixed_cost = 200\n",
        "\n",
        "for advertising in range(0, 201, 25):\n",
        "  attendees = float(2*round(advertising**0.5) + init_attendees)\n",
        "  profit = float((attendees * 10) - advertising - fixed_cost)\n",
        "  print(f'{advertising} ${profit}')"
      ],
      "metadata": {
        "id": "EDr4VvGQxq3L"
      },
      "execution_count": null,
      "outputs": []
    },
    {
      "cell_type": "markdown",
      "source": [
        "Date Program"
      ],
      "metadata": {
        "id": "wSqqkf9_y4mU"
      }
    },
    {
      "cell_type": "code",
      "source": [
        "date = input('Enter date (MM/DD/YYYY): ')\n",
        "\n",
        "month = date[:2]\n",
        "day = date[3:5]\n",
        "year = date[6:]"
      ],
      "metadata": {
        "id": "esdcVbgry5wk"
      },
      "execution_count": null,
      "outputs": []
    },
    {
      "cell_type": "markdown",
      "source": [
        "Rock Paper Scissors"
      ],
      "metadata": {
        "id": "LimC_au8zMWv"
      }
    },
    {
      "cell_type": "code",
      "source": [
        "import random\n",
        "\n",
        "user_choice = input(\"Enter your choice: \")\n",
        "computer_choice = random.choice([\"rock\", \"paper\", \"scissors\"])\n",
        "\n",
        "print(f\"You chose: {user_choice}\")\n",
        "print(f\"Computer choose: {computer_choice}\")\n",
        "\n",
        "if user_choice == computer_choice:\n",
        "  print(\"It's a tie!\")\n",
        "elif (\n",
        "    (user_choice == \"rock\" and computer_choice == \"scissors\") or\n",
        "    (user_choice == \"paper\" and computer_choice == \"rock\") or\n",
        "    (user_choice == \"scissors\" and computer_choice == \"paper\")\n",
        "):\n",
        "  print(\"You win!\")\n",
        "else:\n",
        "  print(\"Computer wins!\")"
      ],
      "metadata": {
        "id": "CzvNEgakzOH6"
      },
      "execution_count": null,
      "outputs": []
    },
    {
      "cell_type": "markdown",
      "source": [
        "Months"
      ],
      "metadata": {
        "id": "_rSc61OT0r9K"
      }
    },
    {
      "cell_type": "code",
      "source": [
        "months = {}\n",
        "\n",
        "numbers = [1,2,3,4,5,6,7,8,9,10,11,12]\n",
        "names = [\"Jan\", \"Feb\", \"Mar\", \"Apr\", \"May\", \"Jun\", \"Jul\", \"Aug\", \"Sep\", \"Oct\", \"Nov\", \"Dec\"]\n",
        "\n",
        "for num in numbers:\n",
        "  months[num] = names[num - 1]\n",
        "print(months)"
      ],
      "metadata": {
        "id": "zhn1j0g_0szO"
      },
      "execution_count": null,
      "outputs": []
    },
    {
      "cell_type": "markdown",
      "source": [
        "Weights"
      ],
      "metadata": {
        "id": "BB7Zytqv1Gnw"
      }
    },
    {
      "cell_type": "code",
      "source": [
        "def getValues(n):\n",
        "  weights = []\n",
        "  if n <11 3:\n",
        "    print('Not enough weights')\n",
        "    return None\n",
        "  else:\n",
        "    for i in range(n):\n",
        "      weights.append(float(input('Enter a weight: ')))\n",
        "    return weights[2:]\n",
        "\n",
        "def calcAverage(alist):\n",
        "  print(sum(alist) / len(alist))\n",
        "\n",
        "n_weights = int(input('Enter a number of weights to be added to the list: '))\n",
        "calcAverage(getValues(n_weights))"
      ],
      "metadata": {
        "id": "jbaAtFTX1HOn"
      },
      "execution_count": null,
      "outputs": []
    },
    {
      "cell_type": "markdown",
      "source": [
        "Making of a calculator"
      ],
      "metadata": {
        "id": "lz67ERDM1YDv"
      }
    },
    {
      "cell_type": "code",
      "source": [
        "while True:\n",
        "    num1 = input(\"Enter the first number: \")\n",
        "\n",
        "    try:\n",
        "        num1 = float(num1)\n",
        "\n",
        "    operator = input(\"Enter an operator (+, -, *, /) or 'break' to quit: \")\n",
        "\n",
        "    if operator == \"break\":\n",
        "        print(\"Calculator out.\")\n",
        "        break\n",
        "\n",
        "    if operator not ['+', '-', '*', '/']:\n",
        "        print(\"Invalid operator. Please enter a valid numerical operator.\")\n",
        "        continue\n",
        "\n",
        "    num2 = input(\"Enter the second number (int or float): \")\n",
        "\n",
        "    if operator == '+':\n",
        "        result = num1 + num2\n",
        "    elif operator == '-':\n",
        "        result = num1 - num2\n",
        "    elif operator == '*':\n",
        "        result = num1 * num2\n",
        "    else\n",
        "        result = num1 / num2\n",
        "\n",
        "    print(\"The result is: (result)\")"
      ],
      "metadata": {
        "id": "C_dNbB1Y1ZoU"
      },
      "execution_count": null,
      "outputs": []
    },
    {
      "cell_type": "markdown",
      "source": [
        "Data Assignment"
      ],
      "metadata": {
        "id": "y7AttsON1duk"
      }
    },
    {
      "cell_type": "code",
      "source": [
        "allData = { # of dictionary of values for countries\n",
        "    'US': {'pop':325.7, 'gdp': 19.39, 'ccy': 'USD', 'fx':  1.0},\n",
        "    'CA': {'pop': 36.5, 'gdp':  1.65, 'ccy': 'CAD', 'fx':  1.35},\n",
        "    'MX': {'pop':129.2, 'gdp':  1.15, 'ccy': 'MXN', 'fx': 19.68}\n",
        "    }\n",
        "\n",
        "while True:\n",
        "  country_code = input('Please enter a country code (or type \\\"exit\\\" to stop): ')\n",
        "  if country_code == 'exit':\n",
        "    break\n",
        "  if country_code not in allData.keys():\n",
        "    print(f'This country code does not exist: {country_code}')\n",
        "    continue\n",
        "  statistic = input('Please enter a statistic: ')\n",
        "  if statistic not in allData[country_code].keys():\n",
        "    print(f'Unknown statistic: {statistic}')\n",
        "    continue\n",
        "\n",
        "  if statistic == 'pop':\n",
        "    print(f'Population: {allData[country_code][statistic]} million people.')\n",
        "  elif statistic == 'gdp':\n",
        "    print(f'GDP: {allData[country_code][statistic]} trillion USD.')\n",
        "  elif statistic == 'ccy':\n",
        "    print(f'Currency: {allData[country_code][statistic]}.')\n",
        "  else:\n",
        "    print(f'FX: {allData[country_code][statistic]}.')"
      ],
      "metadata": {
        "id": "McqBNtkC1e5k"
      },
      "execution_count": null,
      "outputs": []
    }
  ]
}