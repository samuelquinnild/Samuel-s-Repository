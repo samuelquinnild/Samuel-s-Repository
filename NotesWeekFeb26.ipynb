{
  "nbformat": 4,
  "nbformat_minor": 0,
  "metadata": {
    "colab": {
      "provenance": [],
      "authorship_tag": "ABX9TyMlYXnCFR4r3kepUMB09X8n",
      "include_colab_link": true
    },
    "kernelspec": {
      "name": "python3",
      "display_name": "Python 3"
    },
    "language_info": {
      "name": "python"
    }
  },
  "cells": [
    {
      "cell_type": "markdown",
      "metadata": {
        "id": "view-in-github",
        "colab_type": "text"
      },
      "source": [
        "<a href=\"https://colab.research.google.com/github/samuelquinnild/Samuel-s-Repository/blob/main/NotesWeekFeb26.ipynb\" target=\"_parent\"><img src=\"https://colab.research.google.com/assets/colab-badge.svg\" alt=\"Open In Colab\"/></a>"
      ]
    },
    {
      "cell_type": "code",
      "execution_count": 3,
      "metadata": {
        "colab": {
          "base_uri": "https://localhost:8080/"
        },
        "id": "Ov3R-f5vNMjU",
        "outputId": "07bf945d-0ca1-4c0e-ed65-9d63936f32cc"
      },
      "outputs": [
        {
          "output_type": "execute_result",
          "data": {
            "text/plain": [
              "5"
            ]
          },
          "metadata": {},
          "execution_count": 3
        }
      ],
      "source": [
        "L = [1, 'two', 3.0, print, [5, 7, 9]]\n",
        "len(L)"
      ]
    },
    {
      "cell_type": "code",
      "source": [
        "L + ['three']"
      ],
      "metadata": {
        "colab": {
          "base_uri": "https://localhost:8080/"
        },
        "id": "8zHuMeuMNW9E",
        "outputId": "a8b42dc5-0883-4b98-d78e-338714040747"
      },
      "execution_count": 4,
      "outputs": [
        {
          "output_type": "execute_result",
          "data": {
            "text/plain": [
              "[1, 'two', 3.0, <function print>, [5, 7, 9], 'three']"
            ]
          },
          "metadata": {},
          "execution_count": 4
        }
      ]
    },
    {
      "cell_type": "code",
      "source": [
        "L = []\n",
        "\n",
        "number = int(input('Enter a value: '))\n",
        "\n",
        "while number != 0:\n",
        "  L.append(number)\n",
        "  number = int(input('Enter a value: '))\n",
        "print(L)"
      ],
      "metadata": {
        "colab": {
          "base_uri": "https://localhost:8080/"
        },
        "id": "9y5YWWA_TCIW",
        "outputId": "7aa05470-c38c-4def-d30f-3e7989a5326d"
      },
      "execution_count": 9,
      "outputs": [
        {
          "output_type": "stream",
          "name": "stdout",
          "text": [
            "Enter a value: 9\n",
            "Enter a value: 8\n",
            "Enter a value: 7\n",
            "Enter a value: 0\n",
            "[9, 8, 7]\n"
          ]
        }
      ]
    }
  ]
}