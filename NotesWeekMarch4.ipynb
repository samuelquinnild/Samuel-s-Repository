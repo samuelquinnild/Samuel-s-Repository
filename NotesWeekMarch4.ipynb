{
  "nbformat": 4,
  "nbformat_minor": 0,
  "metadata": {
    "colab": {
      "provenance": [],
      "authorship_tag": "ABX9TyNo7SiIkZh16GNP7+230WY2",
      "include_colab_link": true
    },
    "kernelspec": {
      "name": "python3",
      "display_name": "Python 3"
    },
    "language_info": {
      "name": "python"
    }
  },
  "cells": [
    {
      "cell_type": "markdown",
      "metadata": {
        "id": "view-in-github",
        "colab_type": "text"
      },
      "source": [
        "<a href=\"https://colab.research.google.com/github/samuelquinnild/Samuel-s-Repository/blob/main/NotesWeekMarch4.ipynb\" target=\"_parent\"><img src=\"https://colab.research.google.com/assets/colab-badge.svg\" alt=\"Open In Colab\"/></a>"
      ]
    },
    {
      "cell_type": "code",
      "execution_count": 4,
      "metadata": {
        "id": "RN1_gMfF9Yye"
      },
      "outputs": [],
      "source": [
        "grades = {\n",
        "    'Alice': 91,\n",
        "    'Bob': 88,\n",
        "    'Tracy': 93,\n",
        "    'Erik': 90\n",
        "}"
      ]
    },
    {
      "cell_type": "code",
      "source": [
        "for key in grades.keys():\n",
        "  print(key)"
      ],
      "metadata": {
        "colab": {
          "base_uri": "https://localhost:8080/"
        },
        "id": "wnIav8BrBMO1",
        "outputId": "65360201-f306-49b2-db91-f94865e52c93"
      },
      "execution_count": 5,
      "outputs": [
        {
          "output_type": "stream",
          "name": "stdout",
          "text": [
            "Alice\n",
            "Bob\n",
            "Tracy\n",
            "Erik\n"
          ]
        }
      ]
    },
    {
      "cell_type": "code",
      "source": [
        "for value in grades.values():\n",
        "  print(value)\n",
        ""
      ],
      "metadata": {
        "colab": {
          "base_uri": "https://localhost:8080/"
        },
        "id": "yuFyFLydAvYn",
        "outputId": "a8436972-e772-4c77-a346-2af68a2f6827"
      },
      "execution_count": 6,
      "outputs": [
        {
          "output_type": "stream",
          "name": "stdout",
          "text": [
            "91\n",
            "88\n",
            "93\n",
            "90\n"
          ]
        }
      ]
    },
    {
      "cell_type": "code",
      "source": [
        "for key, value in grades.items():\n",
        "  print(f'Key: {key}, Value: {value}')"
      ],
      "metadata": {
        "colab": {
          "base_uri": "https://localhost:8080/"
        },
        "id": "VCrK1wkaA7fO",
        "outputId": "dfcdff90-2514-4647-a648-9d4d6b17e43c"
      },
      "execution_count": 7,
      "outputs": [
        {
          "output_type": "stream",
          "name": "stdout",
          "text": [
            "Key: Alice, Value: 91\n",
            "Key: Bob, Value: 88\n",
            "Key: Tracy, Value: 93\n",
            "Key: Erik, Value: 90\n"
          ]
        }
      ]
    },
    {
      "cell_type": "code",
      "source": [
        "months = {1: \"January\", 2: \"February\", 3: \"March\"}\n",
        "\n",
        "print(f'The first month in a year is {months[1]}')"
      ],
      "metadata": {
        "colab": {
          "base_uri": "https://localhost:8080/"
        },
        "id": "jAI0X9_RBToD",
        "outputId": "d400b538-78f8-4ca7-9d83-1c4eca702412"
      },
      "execution_count": 8,
      "outputs": [
        {
          "output_type": "stream",
          "name": "stdout",
          "text": [
            "The first month in a year is January\n"
          ]
        }
      ]
    },
    {
      "cell_type": "markdown",
      "source": [
        "use dict_name[key] = value to create key values. The key would be the number from the list and the value would be the name of the month"
      ],
      "metadata": {
        "id": "g04ScPVQCqVE"
      }
    },
    {
      "cell_type": "code",
      "source": [
        "months = {}\n",
        "\n",
        "numbers = [1,2,3,4,5,6,7,8,9,10,11,12]\n",
        "names = [\"Jan\", \"Feb\", \"Mar\", \"Apr\", \"May\", \"Jun\", \"Jul\", \"Aug\", \"Sep\", \"Oct\", \"Nov\", \"Dec\"]\n",
        "\n",
        "for num in numbers:\n",
        "  months[num + 1] = names[num - 1]\n",
        "print(months)"
      ],
      "metadata": {
        "colab": {
          "base_uri": "https://localhost:8080/"
        },
        "id": "BHLipP1JCQrK",
        "outputId": "a0e4ec65-6a34-4a12-b2ed-651b0950df01"
      },
      "execution_count": 10,
      "outputs": [
        {
          "output_type": "stream",
          "name": "stdout",
          "text": [
            "1 is Jan\n",
            "2 is Feb\n",
            "3 is Mar\n",
            "4 is Apr\n",
            "5 is May\n",
            "6 is Jun\n",
            "7 is Jul\n",
            "8 is Aug\n",
            "9 is Sep\n",
            "10 is Oct\n",
            "11 is Nov\n",
            "12 is Dec\n"
          ]
        }
      ]
    }
  ]
}