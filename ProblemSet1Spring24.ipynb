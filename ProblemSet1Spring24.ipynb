{
  "nbformat": 4,
  "nbformat_minor": 0,
  "metadata": {
    "colab": {
      "provenance": [],
      "authorship_tag": "ABX9TyOobsaMveP0g8MEo1VKZvMa",
      "include_colab_link": true
    },
    "kernelspec": {
      "name": "python3",
      "display_name": "Python 3"
    },
    "language_info": {
      "name": "python"
    }
  },
  "cells": [
    {
      "cell_type": "markdown",
      "metadata": {
        "id": "view-in-github",
        "colab_type": "text"
      },
      "source": [
        "<a href=\"https://colab.research.google.com/github/samuelquinnild/Samuel-s-Repository/blob/main/ProblemSet1Spring24.ipynb\" target=\"_parent\"><img src=\"https://colab.research.google.com/assets/colab-badge.svg\" alt=\"Open In Colab\"/></a>"
      ]
    },
    {
      "cell_type": "code",
      "execution_count": 20,
      "metadata": {
        "colab": {
          "base_uri": "https://localhost:8080/"
        },
        "id": "3pDiVMugO85L",
        "outputId": "6fb6d54a-511c-451a-d7a6-622142c06988"
      },
      "outputs": [
        {
          "output_type": "stream",
          "name": "stdout",
          "text": [
            "Hours parked: 9\n",
            "Total parking fee: $20 dollars \n"
          ]
        }
      ],
      "source": [
        "def getParkingHours():\n",
        "    n = int(input(\"Hours parked: \"))\n",
        "    return n\n",
        "\n",
        "def calcParkingFee(hours):\n",
        "    Fee = (hours * 2.50)\n",
        "    if Fee < 6:\n",
        "        return 6\n",
        "    elif Fee > 20:\n",
        "        return 20\n",
        "    else:\n",
        "        return Fee\n",
        "\n",
        "parkingFee = calcParkingFee(getParkingHours())\n",
        "print(f\"Total parking fee: ${parkingFee} dollars\")"
      ]
    }
  ]
}