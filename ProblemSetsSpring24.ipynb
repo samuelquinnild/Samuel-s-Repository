{
  "nbformat": 4,
  "nbformat_minor": 0,
  "metadata": {
    "colab": {
      "provenance": [],
      "authorship_tag": "ABX9TyM/pEOnOO1pvs/Gob2uSSyg",
      "include_colab_link": true
    },
    "kernelspec": {
      "name": "python3",
      "display_name": "Python 3"
    },
    "language_info": {
      "name": "python"
    }
  },
  "cells": [
    {
      "cell_type": "markdown",
      "metadata": {
        "id": "view-in-github",
        "colab_type": "text"
      },
      "source": [
        "<a href=\"https://colab.research.google.com/github/samuelquinnild/Samuel-s-Repository/blob/main/ProblemSetsSpring24.ipynb\" target=\"_parent\"><img src=\"https://colab.research.google.com/assets/colab-badge.svg\" alt=\"Open In Colab\"/></a>"
      ]
    },
    {
      "cell_type": "code",
      "execution_count": null,
      "metadata": {
        "colab": {
          "base_uri": "https://localhost:8080/"
        },
        "id": "3pDiVMugO85L",
        "outputId": "6fb6d54a-511c-451a-d7a6-622142c06988"
      },
      "outputs": [
        {
          "output_type": "stream",
          "name": "stdout",
          "text": [
            "Hours parked: 9\n",
            "Total parking fee: $20 dollars \n"
          ]
        }
      ],
      "source": [
        "def getParkingHours():\n",
        "    n = int(input(\"Hours parked: \"))\n",
        "    return n\n",
        "\n",
        "def calcParkingFee(hours):\n",
        "    Fee = (hours * 2.50)\n",
        "    if Fee < 6:\n",
        "        return 6\n",
        "    elif Fee > 20:\n",
        "        return 20\n",
        "    else:\n",
        "        return Fee\n",
        "\n",
        "parkingFee = calcParkingFee(getParkingHours())\n",
        "print(f\"Total parking fee: ${parkingFee} dollars\")"
      ]
    },
    {
      "cell_type": "code",
      "source": [
        "def getValues(n):\n",
        "  weights = []\n",
        "  if n <11 3:\n",
        "    print('Not enough weights')\n",
        "    return None\n",
        "  else:\n",
        "    for i in range(n):\n",
        "      weights.append(float(input('Enter a weight: ')))\n",
        "    return weights[2:]\n",
        "\n",
        "def calcAverage(alist):\n",
        "  print(sum(alist) / len(alist))\n",
        "\n",
        "n_weights = int(input('Enter a number of weights to be added to the list: '))\n",
        "calcAverage(getValues(n_weights))"
      ],
      "metadata": {
        "id": "cnzzfdij7xre"
      },
      "execution_count": null,
      "outputs": []
    },
    {
      "cell_type": "markdown",
      "source": [
        "Above are two graded problems"
      ],
      "metadata": {
        "id": "yndyxcyqTtkv"
      }
    },
    {
      "cell_type": "code",
      "source": [
        "def fact(n):\n",
        "  p = 1\n",
        "  while n >= 1:\n",
        "    p = p * n\n",
        "    n = n - 1\n",
        "  return p\n",
        "\n",
        "fact(4)"
      ],
      "metadata": {
        "colab": {
          "base_uri": "https://localhost:8080/"
        },
        "id": "Ctqr3D3nTUWI",
        "outputId": "137f636e-c0c7-4e44-f417-b96ebcd456c2"
      },
      "execution_count": null,
      "outputs": [
        {
          "output_type": "execute_result",
          "data": {
            "text/plain": [
              "24"
            ]
          },
          "metadata": {},
          "execution_count": 6
        }
      ]
    },
    {
      "cell_type": "code",
      "source": [
        "def factR(n):\n",
        "  if n == 1:\n",
        "    return 1\n",
        "  else:\n",
        "    return n * factR(n-1)\n",
        "\n",
        "fact (4)"
      ],
      "metadata": {
        "colab": {
          "base_uri": "https://localhost:8080/"
        },
        "id": "h703oBmAWepf",
        "outputId": "25beb11d-ae12-409c-b710-05f0e1acdffc"
      },
      "execution_count": null,
      "outputs": [
        {
          "output_type": "execute_result",
          "data": {
            "text/plain": [
              "24"
            ]
          },
          "metadata": {},
          "execution_count": 4
        }
      ]
    },
    {
      "cell_type": "code",
      "source": [
        "def mirrorString(s):\n",
        "  if len(s) == 1:\n",
        "    return s\n",
        "  else:\n",
        "    return s[-1] + mirrorString(s[:-1])\n",
        "\n",
        "mirrorString(\"Hello\")"
      ],
      "metadata": {
        "colab": {
          "base_uri": "https://localhost:8080/",
          "height": 35
        },
        "id": "Fw0urmV5jkxq",
        "outputId": "a58d4b97-f7cd-474b-ed20-043064f25d58"
      },
      "execution_count": 1,
      "outputs": [
        {
          "output_type": "execute_result",
          "data": {
            "text/plain": [
              "'olleH'"
            ],
            "application/vnd.google.colaboratory.intrinsic+json": {
              "type": "string"
            }
          },
          "metadata": {},
          "execution_count": 1
        }
      ]
    },
    {
      "cell_type": "code",
      "source": [
        "def quickSort(alist):\n",
        "  if len(alist) < 2:\n",
        "    return alist\n",
        "  else:\n",
        "    less, equal, larger = [], [], []\n",
        "\n",
        "    pivotIndex = len(alist) // 2\n",
        "\n",
        "    for item in alist:\n",
        "      if item < alist[pivotIndex]:\n",
        "        less.append(item)\n",
        "      elif item == alist[pivotIndex]:\n",
        "        equal.append(item)\n",
        "      else:\n",
        "        larger.append(item)\n",
        "\n",
        "    return quickSort(less) + equal + quickSort(larger)\n",
        "\n",
        "quickSort([8,5,2,3,6,1])"
      ],
      "metadata": {
        "colab": {
          "base_uri": "https://localhost:8080/"
        },
        "id": "96u07vnNngfq",
        "outputId": "cf8b857d-ee39-4107-fe28-06db3e0eba4c"
      },
      "execution_count": 2,
      "outputs": [
        {
          "output_type": "execute_result",
          "data": {
            "text/plain": [
              "[1, 2, 3, 5, 6, 8]"
            ]
          },
          "metadata": {},
          "execution_count": 2
        }
      ]
    }
  ]
}